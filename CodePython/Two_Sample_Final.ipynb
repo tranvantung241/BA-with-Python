{
 "cells": [
  {
   "cell_type": "code",
   "execution_count": 1,
   "metadata": {},
   "outputs": [],
   "source": [
    "import pandas as pd"
   ]
  },
  {
   "cell_type": "code",
   "execution_count": 2,
   "metadata": {},
   "outputs": [
    {
     "name": "stdout",
     "output_type": "stream",
     "text": [
      "C:\\Users\\QUYEN\\Desktop\\BA\\Lap02\n"
     ]
    }
   ],
   "source": [
    "cd C:\\Users\\QUYEN\\Desktop\\BA\\Lap02"
   ]
  },
  {
   "cell_type": "code",
   "execution_count": 3,
   "metadata": {},
   "outputs": [
    {
     "data": {
      "text/html": [
       "<div>\n",
       "<style scoped>\n",
       "    .dataframe tbody tr th:only-of-type {\n",
       "        vertical-align: middle;\n",
       "    }\n",
       "\n",
       "    .dataframe tbody tr th {\n",
       "        vertical-align: top;\n",
       "    }\n",
       "\n",
       "    .dataframe thead th {\n",
       "        text-align: right;\n",
       "    }\n",
       "</style>\n",
       "<table border=\"1\" class=\"dataframe\">\n",
       "  <thead>\n",
       "    <tr style=\"text-align: right;\">\n",
       "      <th></th>\n",
       "      <th>Age</th>\n",
       "      <th>Gender</th>\n",
       "      <th>Relationship Status</th>\n",
       "      <th>Number of Vacations per Year</th>\n",
       "      <th>Number of Children</th>\n",
       "    </tr>\n",
       "  </thead>\n",
       "  <tbody>\n",
       "    <tr>\n",
       "      <th>0</th>\n",
       "      <td>24.0</td>\n",
       "      <td>Male</td>\n",
       "      <td>Married</td>\n",
       "      <td>2.0</td>\n",
       "      <td>0.0</td>\n",
       "    </tr>\n",
       "    <tr>\n",
       "      <th>1</th>\n",
       "      <td>26.0</td>\n",
       "      <td>Female</td>\n",
       "      <td>Married</td>\n",
       "      <td>4.0</td>\n",
       "      <td>0.0</td>\n",
       "    </tr>\n",
       "    <tr>\n",
       "      <th>2</th>\n",
       "      <td>28.0</td>\n",
       "      <td>Male</td>\n",
       "      <td>Married</td>\n",
       "      <td>2.0</td>\n",
       "      <td>2.0</td>\n",
       "    </tr>\n",
       "    <tr>\n",
       "      <th>3</th>\n",
       "      <td>33.0</td>\n",
       "      <td>Male</td>\n",
       "      <td>Married</td>\n",
       "      <td>4.0</td>\n",
       "      <td>0.0</td>\n",
       "    </tr>\n",
       "    <tr>\n",
       "      <th>4</th>\n",
       "      <td>45.0</td>\n",
       "      <td>Male</td>\n",
       "      <td>Married</td>\n",
       "      <td>2.0</td>\n",
       "      <td>0.0</td>\n",
       "    </tr>\n",
       "  </tbody>\n",
       "</table>\n",
       "</div>"
      ],
      "text/plain": [
       "    Age  Gender Relationship Status  Number of Vacations per Year  \\\n",
       "0  24.0    Male             Married                           2.0   \n",
       "1  26.0  Female             Married                           4.0   \n",
       "2  28.0    Male             Married                           2.0   \n",
       "3  33.0    Male             Married                           4.0   \n",
       "4  45.0    Male             Married                           2.0   \n",
       "\n",
       "   Number of Children  \n",
       "0                 0.0  \n",
       "1                 0.0  \n",
       "2                 2.0  \n",
       "3                 0.0  \n",
       "4                 0.0  "
      ]
     },
     "execution_count": 3,
     "metadata": {},
     "output_type": "execute_result"
    }
   ],
   "source": [
    "data = pd.read_csv('Vacation Survey1.csv')\n",
    "data.head()"
   ]
  },
  {
   "cell_type": "code",
   "execution_count": 6,
   "metadata": {},
   "outputs": [
    {
     "name": "stdout",
     "output_type": "stream",
     "text": [
      "accept null hypothesis\n",
      "accept null hypothesis\n",
      "Ttest_indResult(statistic=-0.14872918046627795, pvalue=0.894034829145617)\n",
      "accept null hypothesis\n"
     ]
    },
    {
     "data": {
      "image/png": "[encoded data removed]",
      "text/plain": [
       "<matplotlib.figure.Figure at 0xd9e12b0>"
      ]
     },
     "metadata": {},
     "output_type": "display_data"
    }
   ],
   "source": [
    "import numpy as np\n",
    "import pandas as pd\n",
    "import matplotlib.pyplot as plt\n",
    "import seaborn as sns\n",
    "import scipy.stats as stats \n",
    "data_gender = data.groupby(\"Gender\")\n",
    "data_gender.boxplot(column=['Number of Vacations per Year'])\n",
    "\n",
    "weight_male = data[data['Gender'] == 'Male']['Number of Vacations per Year'].dropna()\n",
    "weight_female = data[data['Gender'] == 'Female']['Number of Vacations per Year'].dropna()\n",
    "\n",
    "# paired 2 sample t-test\n",
    "stats.ttest_ind(weight_male, weight_female, equal_var=False)\n",
    "# pvalue <<< 0.05 reject null hypothesis, weight mean between male and female are not equal\n",
    "\n",
    "# one-tailed, greater than female\n",
    "results = stats.ttest_ind(weight_male, weight_female, equal_var=False)\n",
    "alpha = 0.05\n",
    "if (results[0] > 0) & (results[1]/2 < alpha):\n",
    "    print \"reject null hypothesis, mean of {} is greater than mean of {}\".format('Male','Female')\n",
    "else:\n",
    "    print \"accept null hypothesis\"\n",
    "# reject null hypothesis, mean of Male is greater than mean of Female\n",
    "    \n",
    "# one-tailed, less than female\n",
    "results = stats.ttest_ind(weight_male, weight_female, equal_var=False)\n",
    "alpha = 0.05\n",
    "if (results[0] < 0) & (results[1]/2 < alpha):\n",
    "    print \"reject null hypothesis, mean of {} is less than mean of {}\".format('Male','Female')\n",
    "else:\n",
    "    print \"accept null hypothesis\"\n",
    "# accept null hypothesis\n",
    "    \n",
    "# one-tailed, less than male\n",
    "results = stats.ttest_ind(weight_female, weight_male, equal_var=False)\n",
    "alpha = 0.05\n",
    "print results\n",
    "if (results[0] < 0) & (results[1]/2 < alpha):\n",
    "    print \"reject null hypothesis, mean of {} is less than mean of {}\".format('Female','Male')\n",
    "else:\n",
    "    print \"accept null hypothesis\"\n",
    "# reject null hypothesis, mean of Female is less than mean of Male"
   ]
  },
  {
   "cell_type": "code",
   "execution_count": null,
   "metadata": {},
   "outputs": [],
   "source": []
  }
 ],
 "metadata": {
  "kernelspec": {
   "display_name": "Python 2",
   "language": "python",
   "name": "python2"
  },
  "language_info": {
   "codemirror_mode": {
    "name": "ipython",
    "version": 2
   },
   "file_extension": ".py",
   "mimetype": "text/x-python",
   "name": "python",
   "nbconvert_exporter": "python",
   "pygments_lexer": "ipython2",
   "version": "2.7.14"
  }
 },
 "nbformat": 4,
 "nbformat_minor": 2
}
