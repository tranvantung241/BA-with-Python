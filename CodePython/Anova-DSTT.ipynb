{
 "cells": [
  {
   "cell_type": "code",
   "execution_count": 1,
   "metadata": {},
   "outputs": [],
   "source": [
    "import numpy as np\n",
    "import pandas as pd\n",
    "import scipy"
   ]
  },
  {
   "cell_type": "code",
   "execution_count": 2,
   "metadata": {},
   "outputs": [
    {
     "name": "stdout",
     "output_type": "stream",
     "text": [
      "C:\\Users\\QUYEN\\Desktop\\BA\\Lap03\n"
     ]
    }
   ],
   "source": [
    "cd C:\\Users\\QUYEN\\Desktop\\BA\\Lap03"
   ]
  },
  {
   "cell_type": "code",
   "execution_count": 3,
   "metadata": {},
   "outputs": [
    {
     "data": {
      "text/plain": [
       "u'C:\\\\Users\\\\QUYEN\\\\Desktop\\\\BA\\\\Lap03'"
      ]
     },
     "execution_count": 3,
     "metadata": {},
     "output_type": "execute_result"
    }
   ],
   "source": [
    "pwd"
   ]
  },
  {
   "cell_type": "code",
   "execution_count": 4,
   "metadata": {},
   "outputs": [
    {
     "data": {
      "text/html": [
       "<div>\n",
       "<style scoped>\n",
       "    .dataframe tbody tr th:only-of-type {\n",
       "        vertical-align: middle;\n",
       "    }\n",
       "\n",
       "    .dataframe tbody tr th {\n",
       "        vertical-align: top;\n",
       "    }\n",
       "\n",
       "    .dataframe thead th {\n",
       "        text-align: right;\n",
       "    }\n",
       "</style>\n",
       "<table border=\"1\" class=\"dataframe\">\n",
       "  <thead>\n",
       "    <tr style=\"text-align: right;\">\n",
       "      <th></th>\n",
       "      <th>Nam</th>\n",
       "      <th>Tong So</th>\n",
       "      <th>Nam.1</th>\n",
       "      <th>Nu</th>\n",
       "      <th>Thanh_Thi</th>\n",
       "      <th>Nong_Thon</th>\n",
       "    </tr>\n",
       "  </thead>\n",
       "  <tbody>\n",
       "    <tr>\n",
       "      <th>0</th>\n",
       "      <td>2000</td>\n",
       "      <td>38.5454</td>\n",
       "      <td>19.5487</td>\n",
       "      <td>18.9967</td>\n",
       "      <td>8.9103</td>\n",
       "      <td>29.6351</td>\n",
       "    </tr>\n",
       "    <tr>\n",
       "      <th>1</th>\n",
       "      <td>2001</td>\n",
       "      <td>39.6158</td>\n",
       "      <td>20.2079</td>\n",
       "      <td>19.4079</td>\n",
       "      <td>9.4759</td>\n",
       "      <td>30.1399</td>\n",
       "    </tr>\n",
       "    <tr>\n",
       "      <th>2</th>\n",
       "      <td>2002</td>\n",
       "      <td>40.7160</td>\n",
       "      <td>20.7189</td>\n",
       "      <td>19.9971</td>\n",
       "      <td>9.8485</td>\n",
       "      <td>30.8675</td>\n",
       "    </tr>\n",
       "    <tr>\n",
       "      <th>3</th>\n",
       "      <td>2003</td>\n",
       "      <td>41.8467</td>\n",
       "      <td>21.4497</td>\n",
       "      <td>20.3970</td>\n",
       "      <td>10.1042</td>\n",
       "      <td>31.7425</td>\n",
       "    </tr>\n",
       "    <tr>\n",
       "      <th>4</th>\n",
       "      <td>2004</td>\n",
       "      <td>43.0089</td>\n",
       "      <td>21.9483</td>\n",
       "      <td>21.0606</td>\n",
       "      <td>10.7030</td>\n",
       "      <td>32.3059</td>\n",
       "    </tr>\n",
       "    <tr>\n",
       "      <th>5</th>\n",
       "      <td>2005</td>\n",
       "      <td>44.9045</td>\n",
       "      <td>23.4931</td>\n",
       "      <td>21.4114</td>\n",
       "      <td>11.4614</td>\n",
       "      <td>33.4431</td>\n",
       "    </tr>\n",
       "    <tr>\n",
       "      <th>6</th>\n",
       "      <td>2006</td>\n",
       "      <td>46.2387</td>\n",
       "      <td>24.6139</td>\n",
       "      <td>21.6248</td>\n",
       "      <td>12.2663</td>\n",
       "      <td>33.9724</td>\n",
       "    </tr>\n",
       "    <tr>\n",
       "      <th>7</th>\n",
       "      <td>2007</td>\n",
       "      <td>47.1603</td>\n",
       "      <td>23.9457</td>\n",
       "      <td>2321.4600</td>\n",
       "      <td>12.4091</td>\n",
       "      <td>34.7512</td>\n",
       "    </tr>\n",
       "    <tr>\n",
       "      <th>8</th>\n",
       "      <td>2008</td>\n",
       "      <td>48.2096</td>\n",
       "      <td>24.7090</td>\n",
       "      <td>23.5006</td>\n",
       "      <td>13.1753</td>\n",
       "      <td>35.0343</td>\n",
       "    </tr>\n",
       "    <tr>\n",
       "      <th>9</th>\n",
       "      <td>2009</td>\n",
       "      <td>49.3220</td>\n",
       "      <td>25.6556</td>\n",
       "      <td>23.6664</td>\n",
       "      <td>13.2718</td>\n",
       "      <td>36.0502</td>\n",
       "    </tr>\n",
       "    <tr>\n",
       "      <th>10</th>\n",
       "      <td>2010</td>\n",
       "      <td>50.3929</td>\n",
       "      <td>25.8970</td>\n",
       "      <td>24.4959</td>\n",
       "      <td>14.1066</td>\n",
       "      <td>36.2863</td>\n",
       "    </tr>\n",
       "    <tr>\n",
       "      <th>11</th>\n",
       "      <td>2011</td>\n",
       "      <td>51.3984</td>\n",
       "      <td>26.4682</td>\n",
       "      <td>24.9302</td>\n",
       "      <td>15.2519</td>\n",
       "      <td>36.1465</td>\n",
       "    </tr>\n",
       "    <tr>\n",
       "      <th>12</th>\n",
       "      <td>2012</td>\n",
       "      <td>52.3480</td>\n",
       "      <td>26.9185</td>\n",
       "      <td>25.4295</td>\n",
       "      <td>15.8857</td>\n",
       "      <td>36.4623</td>\n",
       "    </tr>\n",
       "    <tr>\n",
       "      <th>13</th>\n",
       "      <td>2013</td>\n",
       "      <td>53.2456</td>\n",
       "      <td>27.3700</td>\n",
       "      <td>25.8750</td>\n",
       "      <td>16.0425</td>\n",
       "      <td>37.2031</td>\n",
       "    </tr>\n",
       "    <tr>\n",
       "      <th>14</th>\n",
       "      <td>2014</td>\n",
       "      <td>53.7480</td>\n",
       "      <td>27.5606</td>\n",
       "      <td>26.1874</td>\n",
       "      <td>16.5255</td>\n",
       "      <td>37.2225</td>\n",
       "    </tr>\n",
       "    <tr>\n",
       "      <th>15</th>\n",
       "      <td>2015</td>\n",
       "      <td>53.9842</td>\n",
       "      <td>27.8436</td>\n",
       "      <td>26.1406</td>\n",
       "      <td>16.9109</td>\n",
       "      <td>37.0733</td>\n",
       "    </tr>\n",
       "    <tr>\n",
       "      <th>16</th>\n",
       "      <td>2016</td>\n",
       "      <td>54.4453</td>\n",
       "      <td>28.0728</td>\n",
       "      <td>26.3725</td>\n",
       "      <td>17.4499</td>\n",
       "      <td>36.9954</td>\n",
       "    </tr>\n",
       "  </tbody>\n",
       "</table>\n",
       "</div>"
      ],
      "text/plain": [
       "     Nam  Tong So    Nam.1         Nu  Thanh_Thi  Nong_Thon\n",
       "0   2000  38.5454  19.5487    18.9967     8.9103    29.6351\n",
       "1   2001  39.6158  20.2079    19.4079     9.4759    30.1399\n",
       "2   2002  40.7160  20.7189    19.9971     9.8485    30.8675\n",
       "3   2003  41.8467  21.4497    20.3970    10.1042    31.7425\n",
       "4   2004  43.0089  21.9483    21.0606    10.7030    32.3059\n",
       "5   2005  44.9045  23.4931    21.4114    11.4614    33.4431\n",
       "6   2006  46.2387  24.6139    21.6248    12.2663    33.9724\n",
       "7   2007  47.1603  23.9457  2321.4600    12.4091    34.7512\n",
       "8   2008  48.2096  24.7090    23.5006    13.1753    35.0343\n",
       "9   2009  49.3220  25.6556    23.6664    13.2718    36.0502\n",
       "10  2010  50.3929  25.8970    24.4959    14.1066    36.2863\n",
       "11  2011  51.3984  26.4682    24.9302    15.2519    36.1465\n",
       "12  2012  52.3480  26.9185    25.4295    15.8857    36.4623\n",
       "13  2013  53.2456  27.3700    25.8750    16.0425    37.2031\n",
       "14  2014  53.7480  27.5606    26.1874    16.5255    37.2225\n",
       "15  2015  53.9842  27.8436    26.1406    16.9109    37.0733\n",
       "16  2016  54.4453  28.0728    26.3725    17.4499    36.9954"
      ]
     },
     "execution_count": 4,
     "metadata": {},
     "output_type": "execute_result"
    }
   ],
   "source": [
    "pd.read_csv('DSTT.csv')"
   ]
  },
  {
   "cell_type": "code",
   "execution_count": 5,
   "metadata": {},
   "outputs": [
    {
     "data": {
      "text/html": [
       "<div>\n",
       "<style scoped>\n",
       "    .dataframe tbody tr th:only-of-type {\n",
       "        vertical-align: middle;\n",
       "    }\n",
       "\n",
       "    .dataframe tbody tr th {\n",
       "        vertical-align: top;\n",
       "    }\n",
       "\n",
       "    .dataframe thead th {\n",
       "        text-align: right;\n",
       "    }\n",
       "</style>\n",
       "<table border=\"1\" class=\"dataframe\">\n",
       "  <thead>\n",
       "    <tr style=\"text-align: right;\">\n",
       "      <th></th>\n",
       "      <th>Nam</th>\n",
       "      <th>Tong So</th>\n",
       "      <th>Nam.1</th>\n",
       "      <th>Nu</th>\n",
       "      <th>Thanh_Thi</th>\n",
       "      <th>Nong_Thon</th>\n",
       "    </tr>\n",
       "  </thead>\n",
       "  <tbody>\n",
       "    <tr>\n",
       "      <th>0</th>\n",
       "      <td>2000</td>\n",
       "      <td>38.5454</td>\n",
       "      <td>19.5487</td>\n",
       "      <td>18.9967</td>\n",
       "      <td>8.9103</td>\n",
       "      <td>29.6351</td>\n",
       "    </tr>\n",
       "    <tr>\n",
       "      <th>1</th>\n",
       "      <td>2001</td>\n",
       "      <td>39.6158</td>\n",
       "      <td>20.2079</td>\n",
       "      <td>19.4079</td>\n",
       "      <td>9.4759</td>\n",
       "      <td>30.1399</td>\n",
       "    </tr>\n",
       "    <tr>\n",
       "      <th>2</th>\n",
       "      <td>2002</td>\n",
       "      <td>40.7160</td>\n",
       "      <td>20.7189</td>\n",
       "      <td>19.9971</td>\n",
       "      <td>9.8485</td>\n",
       "      <td>30.8675</td>\n",
       "    </tr>\n",
       "    <tr>\n",
       "      <th>3</th>\n",
       "      <td>2003</td>\n",
       "      <td>41.8467</td>\n",
       "      <td>21.4497</td>\n",
       "      <td>20.3970</td>\n",
       "      <td>10.1042</td>\n",
       "      <td>31.7425</td>\n",
       "    </tr>\n",
       "    <tr>\n",
       "      <th>4</th>\n",
       "      <td>2004</td>\n",
       "      <td>43.0089</td>\n",
       "      <td>21.9483</td>\n",
       "      <td>21.0606</td>\n",
       "      <td>10.7030</td>\n",
       "      <td>32.3059</td>\n",
       "    </tr>\n",
       "  </tbody>\n",
       "</table>\n",
       "</div>"
      ],
      "text/plain": [
       "    Nam  Tong So    Nam.1       Nu  Thanh_Thi  Nong_Thon\n",
       "0  2000  38.5454  19.5487  18.9967     8.9103    29.6351\n",
       "1  2001  39.6158  20.2079  19.4079     9.4759    30.1399\n",
       "2  2002  40.7160  20.7189  19.9971     9.8485    30.8675\n",
       "3  2003  41.8467  21.4497  20.3970    10.1042    31.7425\n",
       "4  2004  43.0089  21.9483  21.0606    10.7030    32.3059"
      ]
     },
     "execution_count": 5,
     "metadata": {},
     "output_type": "execute_result"
    }
   ],
   "source": [
    "x=pd.read_csv('DSTT.csv')\n",
    "x.head()"
   ]
  },
  {
   "cell_type": "code",
   "execution_count": 6,
   "metadata": {},
   "outputs": [
    {
     "data": {
      "text/html": [
       "<div>\n",
       "<style scoped>\n",
       "    .dataframe tbody tr th:only-of-type {\n",
       "        vertical-align: middle;\n",
       "    }\n",
       "\n",
       "    .dataframe tbody tr th {\n",
       "        vertical-align: top;\n",
       "    }\n",
       "\n",
       "    .dataframe thead th {\n",
       "        text-align: right;\n",
       "    }\n",
       "</style>\n",
       "<table border=\"1\" class=\"dataframe\">\n",
       "  <thead>\n",
       "    <tr style=\"text-align: right;\">\n",
       "      <th></th>\n",
       "      <th>Nam</th>\n",
       "      <th>Tong So</th>\n",
       "      <th>Nam.1</th>\n",
       "      <th>Nu</th>\n",
       "      <th>Thanh_Thi</th>\n",
       "      <th>Nong_Thon</th>\n",
       "    </tr>\n",
       "  </thead>\n",
       "  <tbody>\n",
       "    <tr>\n",
       "      <th>count</th>\n",
       "      <td>17.000000</td>\n",
       "      <td>17.000000</td>\n",
       "      <td>17.000000</td>\n",
       "      <td>17.000000</td>\n",
       "      <td>17.000000</td>\n",
       "      <td>17.000000</td>\n",
       "    </tr>\n",
       "    <tr>\n",
       "      <th>mean</th>\n",
       "      <td>2008.000000</td>\n",
       "      <td>47.595900</td>\n",
       "      <td>24.495382</td>\n",
       "      <td>158.291388</td>\n",
       "      <td>13.164635</td>\n",
       "      <td>34.431265</td>\n",
       "    </tr>\n",
       "    <tr>\n",
       "      <th>std</th>\n",
       "      <td>5.049752</td>\n",
       "      <td>5.373597</td>\n",
       "      <td>2.839298</td>\n",
       "      <td>557.441677</td>\n",
       "      <td>2.817833</td>\n",
       "      <td>2.618176</td>\n",
       "    </tr>\n",
       "    <tr>\n",
       "      <th>min</th>\n",
       "      <td>2000.000000</td>\n",
       "      <td>38.545400</td>\n",
       "      <td>19.548700</td>\n",
       "      <td>18.996700</td>\n",
       "      <td>8.910300</td>\n",
       "      <td>29.635100</td>\n",
       "    </tr>\n",
       "    <tr>\n",
       "      <th>25%</th>\n",
       "      <td>2004.000000</td>\n",
       "      <td>43.008900</td>\n",
       "      <td>21.948300</td>\n",
       "      <td>21.060600</td>\n",
       "      <td>10.703000</td>\n",
       "      <td>32.305900</td>\n",
       "    </tr>\n",
       "    <tr>\n",
       "      <th>50%</th>\n",
       "      <td>2008.000000</td>\n",
       "      <td>48.209600</td>\n",
       "      <td>24.709000</td>\n",
       "      <td>23.666400</td>\n",
       "      <td>13.175300</td>\n",
       "      <td>35.034300</td>\n",
       "    </tr>\n",
       "    <tr>\n",
       "      <th>75%</th>\n",
       "      <td>2012.000000</td>\n",
       "      <td>52.348000</td>\n",
       "      <td>26.918500</td>\n",
       "      <td>25.875000</td>\n",
       "      <td>15.885700</td>\n",
       "      <td>36.462300</td>\n",
       "    </tr>\n",
       "    <tr>\n",
       "      <th>max</th>\n",
       "      <td>2016.000000</td>\n",
       "      <td>54.445300</td>\n",
       "      <td>28.072800</td>\n",
       "      <td>2321.460000</td>\n",
       "      <td>17.449900</td>\n",
       "      <td>37.222500</td>\n",
       "    </tr>\n",
       "  </tbody>\n",
       "</table>\n",
       "</div>"
      ],
      "text/plain": [
       "               Nam    Tong So      Nam.1           Nu  Thanh_Thi  Nong_Thon\n",
       "count    17.000000  17.000000  17.000000    17.000000  17.000000  17.000000\n",
       "mean   2008.000000  47.595900  24.495382   158.291388  13.164635  34.431265\n",
       "std       5.049752   5.373597   2.839298   557.441677   2.817833   2.618176\n",
       "min    2000.000000  38.545400  19.548700    18.996700   8.910300  29.635100\n",
       "25%    2004.000000  43.008900  21.948300    21.060600  10.703000  32.305900\n",
       "50%    2008.000000  48.209600  24.709000    23.666400  13.175300  35.034300\n",
       "75%    2012.000000  52.348000  26.918500    25.875000  15.885700  36.462300\n",
       "max    2016.000000  54.445300  28.072800  2321.460000  17.449900  37.222500"
      ]
     },
     "execution_count": 6,
     "metadata": {},
     "output_type": "execute_result"
    }
   ],
   "source": [
    "x.describe()"
   ]
  },
  {
   "cell_type": "code",
   "execution_count": 7,
   "metadata": {},
   "outputs": [],
   "source": [
    "cyl=x['Thanh_Thi']\n",
    "am=x['Nong_Thon']"
   ]
  },
  {
   "cell_type": "code",
   "execution_count": 8,
   "metadata": {},
   "outputs": [
    {
     "data": {
      "text/plain": [
       "0     29.6351\n",
       "1     30.1399\n",
       "2     30.8675\n",
       "3     31.7425\n",
       "4     32.3059\n",
       "5     33.4431\n",
       "6     33.9724\n",
       "7     34.7512\n",
       "8     35.0343\n",
       "9     36.0502\n",
       "10    36.2863\n",
       "11    36.1465\n",
       "12    36.4623\n",
       "13    37.2031\n",
       "14    37.2225\n",
       "15    37.0733\n",
       "16    36.9954\n",
       "Name: Nong_Thon, dtype: float64"
      ]
     },
     "execution_count": 8,
     "metadata": {},
     "output_type": "execute_result"
    }
   ],
   "source": [
    "am"
   ]
  },
  {
   "cell_type": "code",
   "execution_count": 9,
   "metadata": {
    "scrolled": true
   },
   "outputs": [
    {
     "name": "stdout",
     "output_type": "stream",
     "text": [
      "<class 'pandas.core.frame.DataFrame'>\n",
      "RangeIndex: 17 entries, 0 to 16\n",
      "Data columns (total 6 columns):\n",
      "Nam          17 non-null int64\n",
      "Tong So      17 non-null float64\n",
      "Nam.1        17 non-null float64\n",
      "Nu           17 non-null float64\n",
      "Thanh_Thi    17 non-null float64\n",
      "Nong_Thon    17 non-null float64\n",
      "dtypes: float64(5), int64(1)\n",
      "memory usage: 888.0 bytes\n"
     ]
    }
   ],
   "source": [
    "x.info()"
   ]
  },
  {
   "cell_type": "code",
   "execution_count": 10,
   "metadata": {},
   "outputs": [
    {
     "data": {
      "text/plain": [
       "Ttest_1sampResult(statistic=16.336301883337878, pvalue=2.1111164541293372e-11)"
      ]
     },
     "execution_count": 10,
     "metadata": {},
     "output_type": "execute_result"
    }
   ],
   "source": [
    "from scipy import stats\n",
    "stats.ttest_1samp(cyl, 2)"
   ]
  },
  {
   "cell_type": "code",
   "execution_count": 11,
   "metadata": {},
   "outputs": [
    {
     "data": {
      "text/plain": [
       "F_onewayResult(statistic=519.6733189161812, pvalue=2.364031164690609e-21)"
      ]
     },
     "execution_count": 11,
     "metadata": {},
     "output_type": "execute_result"
    }
   ],
   "source": [
    "stats.f_oneway(cyl,am)"
   ]
  },
  {
   "cell_type": "code",
   "execution_count": 12,
   "metadata": {},
   "outputs": [
    {
     "name": "stdout",
     "output_type": "stream",
     "text": [
      "<class 'pandas.core.frame.DataFrame'>\n",
      "RangeIndex: 17 entries, 0 to 16\n",
      "Data columns (total 6 columns):\n",
      "Nam          17 non-null int64\n",
      "Tong So      17 non-null float64\n",
      "Nam.1        17 non-null float64\n",
      "Nu           17 non-null float64\n",
      "Thanh_Thi    17 non-null float64\n",
      "Nong_Thon    17 non-null float64\n",
      "dtypes: float64(5), int64(1)\n",
      "memory usage: 888.0 bytes\n"
     ]
    }
   ],
   "source": [
    "x.info()"
   ]
  },
  {
   "cell_type": "code",
   "execution_count": 13,
   "metadata": {},
   "outputs": [
    {
     "data": {
      "text/plain": [
       "Index([u'Nam', u'Tong So', u'Nam.1', u'Nu', u'Thanh_Thi', u'Nong_Thon'], dtype='object')"
      ]
     },
     "execution_count": 13,
     "metadata": {},
     "output_type": "execute_result"
    }
   ],
   "source": [
    "x.columns"
   ]
  },
  {
   "cell_type": "code",
   "execution_count": 14,
   "metadata": {},
   "outputs": [
    {
     "name": "stderr",
     "output_type": "stream",
     "text": [
      "C:\\Users\\QUYEN\\Anaconda2\\lib\\site-packages\\statsmodels\\compat\\pandas.py:56: FutureWarning: The pandas.core.datetools module is deprecated and will be removed in a future version. Please use the pandas.tseries module instead.\n",
      "  from pandas.core import datetools\n"
     ]
    },
    {
     "name": "stdout",
     "output_type": "stream",
     "text": [
      "               sum_sq    df           F        PR(>F)\n",
      "Nong_Thon  115.690861   1.0  152.867613  2.870410e-09\n",
      "Residual    11.352064  15.0         NaN           NaN\n"
     ]
    }
   ],
   "source": [
    "import pandas as pd\n",
    "import statsmodels.api as sm\n",
    "from statsmodels.formula.api import ols\n",
    "cw = pd.read_csv('DSTT.csv')\n",
    "cw_lm=ols('Thanh_Thi ~ Nong_Thon', data=cw).fit() #Specify C for Categorical\n",
    "print(sm.stats.anova_lm(cw_lm, typ=2))"
   ]
  },
  {
   "cell_type": "code",
   "execution_count": null,
   "metadata": {},
   "outputs": [],
   "source": []
  }
 ],
 "metadata": {
  "kernelspec": {
   "display_name": "Python 2",
   "language": "python",
   "name": "python2"
  },
  "language_info": {
   "codemirror_mode": {
    "name": "ipython",
    "version": 2
   },
   "file_extension": ".py",
   "mimetype": "text/x-python",
   "name": "python",
   "nbconvert_exporter": "python",
   "pygments_lexer": "ipython2",
   "version": "2.7.14"
  }
 },
 "nbformat": 4,
 "nbformat_minor": 2
}
