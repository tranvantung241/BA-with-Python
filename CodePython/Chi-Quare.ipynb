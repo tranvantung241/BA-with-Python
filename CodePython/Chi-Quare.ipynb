{
 "cells": [
  {
   "cell_type": "code",
   "execution_count": 1,
   "metadata": {},
   "outputs": [],
   "source": [
    "import pandas as pd"
   ]
  },
  {
   "cell_type": "code",
   "execution_count": 12,
   "metadata": {},
   "outputs": [
    {
     "name": "stdout",
     "output_type": "stream",
     "text": [
      "E:\\HK6\\Phân tích dữ liệu kinh doanh\\BaiTap\\BaiTapLap01\n"
     ]
    }
   ],
   "source": [
    "cd E:\\HK6\\Phân tích dữ liệu kinh doanh\\BaiTap\\BaiTapLap01\\"
   ]
  },
  {
   "cell_type": "code",
   "execution_count": 13,
   "metadata": {},
   "outputs": [
    {
     "data": {
      "text/plain": [
       "u'E:\\\\HK6\\\\Ph\\xe2n t\\xedch d\\u1eef li\\u1ec7u kinh doanh\\\\BaiTap\\\\BaiTapLap01'"
      ]
     },
     "execution_count": 13,
     "metadata": {},
     "output_type": "execute_result"
    }
   ],
   "source": [
    "pwd"
   ]
  },
  {
   "cell_type": "code",
   "execution_count": 16,
   "metadata": {},
   "outputs": [
    {
     "data": {
      "text/html": [
       "<div>\n",
       "<style scoped>\n",
       "    .dataframe tbody tr th:only-of-type {\n",
       "        vertical-align: middle;\n",
       "    }\n",
       "\n",
       "    .dataframe tbody tr th {\n",
       "        vertical-align: top;\n",
       "    }\n",
       "\n",
       "    .dataframe thead th {\n",
       "        text-align: right;\n",
       "    }\n",
       "</style>\n",
       "<table border=\"1\" class=\"dataframe\">\n",
       "  <thead>\n",
       "    <tr style=\"text-align: right;\">\n",
       "      <th></th>\n",
       "      <th>x</th>\n",
       "      <th>y</th>\n",
       "    </tr>\n",
       "  </thead>\n",
       "  <tbody>\n",
       "    <tr>\n",
       "      <th>0</th>\n",
       "      <td>2015</td>\n",
       "      <td>4192862</td>\n",
       "    </tr>\n",
       "    <tr>\n",
       "      <th>1</th>\n",
       "      <td>2014</td>\n",
       "      <td>3937856</td>\n",
       "    </tr>\n",
       "    <tr>\n",
       "      <th>2</th>\n",
       "      <td>2013</td>\n",
       "      <td>3584262</td>\n",
       "    </tr>\n",
       "    <tr>\n",
       "      <th>3</th>\n",
       "      <td>2012</td>\n",
       "      <td>3245419</td>\n",
       "    </tr>\n",
       "    <tr>\n",
       "      <th>4</th>\n",
       "      <td>2011</td>\n",
       "      <td>2536631</td>\n",
       "    </tr>\n",
       "    <tr>\n",
       "      <th>5</th>\n",
       "      <td>2010</td>\n",
       "      <td>1980914</td>\n",
       "    </tr>\n",
       "  </tbody>\n",
       "</table>\n",
       "</div>"
      ],
      "text/plain": [
       "      x        y\n",
       "0  2015  4192862\n",
       "1  2014  3937856\n",
       "2  2013  3584262\n",
       "3  2012  3245419\n",
       "4  2011  2536631\n",
       "5  2010  1980914"
      ]
     },
     "execution_count": 16,
     "metadata": {},
     "output_type": "execute_result"
    }
   ],
   "source": [
    "pd.read_csv('BTLap01.csv')"
   ]
  },
  {
   "cell_type": "code",
   "execution_count": 17,
   "metadata": {},
   "outputs": [
    {
     "data": {
      "text/html": [
       "<div>\n",
       "<style scoped>\n",
       "    .dataframe tbody tr th:only-of-type {\n",
       "        vertical-align: middle;\n",
       "    }\n",
       "\n",
       "    .dataframe tbody tr th {\n",
       "        vertical-align: top;\n",
       "    }\n",
       "\n",
       "    .dataframe thead th {\n",
       "        text-align: right;\n",
       "    }\n",
       "</style>\n",
       "<table border=\"1\" class=\"dataframe\">\n",
       "  <thead>\n",
       "    <tr style=\"text-align: right;\">\n",
       "      <th></th>\n",
       "      <th>x</th>\n",
       "      <th>y</th>\n",
       "    </tr>\n",
       "  </thead>\n",
       "  <tbody>\n",
       "    <tr>\n",
       "      <th>0</th>\n",
       "      <td>2015</td>\n",
       "      <td>4192862</td>\n",
       "    </tr>\n",
       "    <tr>\n",
       "      <th>1</th>\n",
       "      <td>2014</td>\n",
       "      <td>3937856</td>\n",
       "    </tr>\n",
       "    <tr>\n",
       "      <th>2</th>\n",
       "      <td>2013</td>\n",
       "      <td>3584262</td>\n",
       "    </tr>\n",
       "    <tr>\n",
       "      <th>3</th>\n",
       "      <td>2012</td>\n",
       "      <td>3245419</td>\n",
       "    </tr>\n",
       "    <tr>\n",
       "      <th>4</th>\n",
       "      <td>2011</td>\n",
       "      <td>2536631</td>\n",
       "    </tr>\n",
       "  </tbody>\n",
       "</table>\n",
       "</div>"
      ],
      "text/plain": [
       "      x        y\n",
       "0  2015  4192862\n",
       "1  2014  3937856\n",
       "2  2013  3584262\n",
       "3  2012  3245419\n",
       "4  2011  2536631"
      ]
     },
     "execution_count": 17,
     "metadata": {},
     "output_type": "execute_result"
    }
   ],
   "source": [
    "x=pd.read_csv('BTLap01.csv')\n",
    "x.head()"
   ]
  },
  {
   "cell_type": "code",
   "execution_count": 20,
   "metadata": {},
   "outputs": [
    {
     "name": "stdout",
     "output_type": "stream",
     "text": [
      "chi-square: 30.000 \n",
      " bac tu do: 25.000 \n",
      " p_vaule: 0.224\n"
     ]
    }
   ],
   "source": [
    "cyl=x['x']\n",
    "am=x['y']\n",
    "table=pd.crosstab(cyl,am)\n",
    "from scipy.stats import chi2_contingency\n",
    "chi2,p,df,expected=chi2_contingency(table.values)\n",
    "print 'chi-square: %0.3f \\n bac tu do: %0.3f \\n p_vaule: %0.3f' % (chi2,df,p)"
   ]
  },
  {
   "cell_type": "code",
   "execution_count": 21,
   "metadata": {},
   "outputs": [
    {
     "data": {
      "text/html": [
       "<div>\n",
       "<style scoped>\n",
       "    .dataframe tbody tr th:only-of-type {\n",
       "        vertical-align: middle;\n",
       "    }\n",
       "\n",
       "    .dataframe tbody tr th {\n",
       "        vertical-align: top;\n",
       "    }\n",
       "\n",
       "    .dataframe thead th {\n",
       "        text-align: right;\n",
       "    }\n",
       "</style>\n",
       "<table border=\"1\" class=\"dataframe\">\n",
       "  <thead>\n",
       "    <tr style=\"text-align: right;\">\n",
       "      <th></th>\n",
       "      <th>x</th>\n",
       "      <th>y</th>\n",
       "    </tr>\n",
       "  </thead>\n",
       "  <tbody>\n",
       "    <tr>\n",
       "      <th>count</th>\n",
       "      <td>6.000000</td>\n",
       "      <td>6.000000e+00</td>\n",
       "    </tr>\n",
       "    <tr>\n",
       "      <th>mean</th>\n",
       "      <td>2012.500000</td>\n",
       "      <td>3.246324e+06</td>\n",
       "    </tr>\n",
       "    <tr>\n",
       "      <th>std</th>\n",
       "      <td>1.870829</td>\n",
       "      <td>8.477358e+05</td>\n",
       "    </tr>\n",
       "    <tr>\n",
       "      <th>min</th>\n",
       "      <td>2010.000000</td>\n",
       "      <td>1.980914e+06</td>\n",
       "    </tr>\n",
       "    <tr>\n",
       "      <th>25%</th>\n",
       "      <td>2011.250000</td>\n",
       "      <td>2.713828e+06</td>\n",
       "    </tr>\n",
       "    <tr>\n",
       "      <th>50%</th>\n",
       "      <td>2012.500000</td>\n",
       "      <td>3.414840e+06</td>\n",
       "    </tr>\n",
       "    <tr>\n",
       "      <th>75%</th>\n",
       "      <td>2013.750000</td>\n",
       "      <td>3.849458e+06</td>\n",
       "    </tr>\n",
       "    <tr>\n",
       "      <th>max</th>\n",
       "      <td>2015.000000</td>\n",
       "      <td>4.192862e+06</td>\n",
       "    </tr>\n",
       "  </tbody>\n",
       "</table>\n",
       "</div>"
      ],
      "text/plain": [
       "                 x             y\n",
       "count     6.000000  6.000000e+00\n",
       "mean   2012.500000  3.246324e+06\n",
       "std       1.870829  8.477358e+05\n",
       "min    2010.000000  1.980914e+06\n",
       "25%    2011.250000  2.713828e+06\n",
       "50%    2012.500000  3.414840e+06\n",
       "75%    2013.750000  3.849458e+06\n",
       "max    2015.000000  4.192862e+06"
      ]
     },
     "execution_count": 21,
     "metadata": {},
     "output_type": "execute_result"
    }
   ],
   "source": [
    "x.describe()"
   ]
  },
  {
   "cell_type": "code",
   "execution_count": 64,
   "metadata": {},
   "outputs": [
    {
     "data": {
      "text/plain": [
       "DescribeResult(nobs=6L, minmax=(1980914, 4192862), mean=3246324.0, variance=718656045137.2, skewness=-0.4194451113599047, kurtosis=-1.205273628460186)"
      ]
     },
     "execution_count": 64,
     "metadata": {},
     "output_type": "execute_result"
    }
   ],
   "source": [
    "from scipy import stats\n",
    "stats.describe(am)"
   ]
  },
  {
   "cell_type": "code",
   "execution_count": 28,
   "metadata": {},
   "outputs": [
    {
     "data": {
      "text/plain": [
       "DescribeResult(nobs=4L, minmax=(array([   2010, 1980914], dtype=int64), array([   2013, 3584262], dtype=int64)), mean=array([2.0115000e+03, 2.8368065e+06]), variance=array([1.66666667e+00, 5.16103734e+11]), skewness=array([ 0.        , -0.17462412]), kurtosis=array([-1.36      , -1.52371489]))"
      ]
     },
     "execution_count": 28,
     "metadata": {},
     "output_type": "execute_result"
    }
   ],
   "source": [
    "stats.describe(x[2:])"
   ]
  },
  {
   "cell_type": "code",
   "execution_count": 30,
   "metadata": {},
   "outputs": [
    {
     "data": {
      "text/plain": [
       "DescribeResult(nobs=252L, minmax=(-3.4723132127167378, 3.149422172214175), mean=0.22518966961442563, variance=1.3339808839155682, skewness=-0.08261216796896703, kurtosis=-0.26886115714565006)"
      ]
     },
     "execution_count": 30,
     "metadata": {},
     "output_type": "execute_result"
    }
   ],
   "source": [
    "import numpy as np\n",
    "y1=np.random.normal(.1064,1.1948,252)\n",
    "stats.describe(y1)"
   ]
  },
  {
   "cell_type": "code",
   "execution_count": 33,
   "metadata": {},
   "outputs": [],
   "source": [
    "import pandas as pd\n",
    "import matplotlib.pyplot as plt\n",
    "import pandas_datareader as pdr\n",
    "%matplotlib inline"
   ]
  },
  {
   "cell_type": "code",
   "execution_count": 65,
   "metadata": {},
   "outputs": [
    {
     "name": "stdout",
     "output_type": "stream",
     "text": [
      "('x', KurtosistestResult(statistic=-0.5249217348023918, pvalue=0.5996375994008598))\n"
     ]
    }
   ],
   "source": [
    "print('x',stats.kurtosistest(am))"
   ]
  },
  {
   "cell_type": "code",
   "execution_count": 96,
   "metadata": {},
   "outputs": [
    {
     "data": {
      "image/png": "[encoded data removed]",
      "text/plain": [
       "<matplotlib.figure.Figure at 0x10c45550>"
      ]
     },
     "metadata": {},
     "output_type": "display_data"
    }
   ],
   "source": [
    "import matplotlib.mlab as mlab\n",
    "plt.hist(x,edgecolor='red')\n",
    "plt.show()"
   ]
  },
  {
   "cell_type": "code",
   "execution_count": 39,
   "metadata": {},
   "outputs": [
    {
     "data": {
      "image/png": "[encoded data removed]",
      "text/plain": [
       "<matplotlib.figure.Figure at 0xfa9bf98>"
      ]
     },
     "metadata": {},
     "output_type": "display_data"
    }
   ],
   "source": [
    "plt.plot(x)\n",
    "plt.show()"
   ]
  },
  {
   "cell_type": "code",
   "execution_count": 97,
   "metadata": {},
   "outputs": [
    {
     "data": {
      "text/plain": [
       "[<matplotlib.lines.Line2D at 0xfe61208>]"
      ]
     },
     "execution_count": 97,
     "metadata": {},
     "output_type": "execute_result"
    },
    {
     "data": {
      "image/png": "[encoded data removed]",
      "text/plain": [
       "<matplotlib.figure.Figure at 0x119f3438>"
      ]
     },
     "metadata": {},
     "output_type": "display_data"
    }
   ],
   "source": [
    "import matplotlib.mlab as mlab\n",
    "from scipy.stats import kurtosis, skew\n",
    "mean_tb=float(np.mean(am))\n",
    "sd=float(np.std(am,ddof=1))\n",
    "min_x=float(np.min(am))\n",
    "max_x=float(np.max(am))\n",
    "kur=format( kurtosis(am) )\n",
    "skew=format( skew(am) )\n",
    "a=np.linspace(min_x,max_x,100)\n",
    "plt.plot(a,mlab.normpdf(a,mean_tb,sd))"
   ]
  },
  {
   "cell_type": "code",
   "execution_count": 57,
   "metadata": {},
   "outputs": [
    {
     "data": {
      "text/plain": [
       "0    2015\n",
       "1    2014\n",
       "2    2013\n",
       "3    2012\n",
       "4    2011\n",
       "5    2010\n",
       "Name: x, dtype: int64"
      ]
     },
     "execution_count": 57,
     "metadata": {},
     "output_type": "execute_result"
    }
   ],
   "source": [
    "cyl"
   ]
  },
  {
   "cell_type": "code",
   "execution_count": 58,
   "metadata": {},
   "outputs": [
    {
     "data": {
      "text/plain": [
       "0    4192862\n",
       "1    3937856\n",
       "2    3584262\n",
       "3    3245419\n",
       "4    2536631\n",
       "5    1980914\n",
       "Name: y, dtype: int64"
      ]
     },
     "execution_count": 58,
     "metadata": {},
     "output_type": "execute_result"
    }
   ],
   "source": [
    "am"
   ]
  },
  {
   "cell_type": "code",
   "execution_count": 82,
   "metadata": {},
   "outputs": [
    {
     "data": {
      "image/png": "[encoded data removed]",
      "text/plain": [
       "<matplotlib.figure.Figure at 0xfc50358>"
      ]
     },
     "metadata": {},
     "output_type": "display_data"
    }
   ],
   "source": [
    "plt.plot(x)\n",
    "plt.show()"
   ]
  },
  {
   "cell_type": "code",
   "execution_count": 62,
   "metadata": {},
   "outputs": [
    {
     "data": {
      "image/png": "[encoded data removed]",
      "text/plain": [
       "<matplotlib.figure.Figure at 0xfc503c8>"
      ]
     },
     "metadata": {},
     "output_type": "display_data"
    }
   ],
   "source": [
    "plt.hist(am)\n",
    "plt.show()"
   ]
  },
  {
   "cell_type": "code",
   "execution_count": 73,
   "metadata": {},
   "outputs": [
    {
     "name": "stdout",
     "output_type": "stream",
     "text": [
      "excess kurtosis of normal distribution (should be 0): -1.20527362846\n",
      "skewness of normal distribution (should be 0): -0.41944511136\n"
     ]
    }
   ],
   "source": [
    "print( 'excess kurtosis of normal distribution (should be 0): {}'.format( kurtosis(am) ))\n",
    "print( 'skewness of normal distribution (should be 0): {}'.format( skew(am) ))"
   ]
  },
  {
   "cell_type": "code",
   "execution_count": 78,
   "metadata": {},
   "outputs": [
    {
     "data": {
      "text/plain": [
       "array([1980914.        , 2003256.90909091, 2025599.81818182,\n",
       "       2047942.72727273, 2070285.63636364, 2092628.54545455,\n",
       "       2114971.45454545, 2137314.36363636, 2159657.27272727,\n",
       "       2182000.18181818, 2204343.09090909, 2226686.        ,\n",
       "       2249028.90909091, 2271371.81818182, 2293714.72727273,\n",
       "       2316057.63636364, 2338400.54545455, 2360743.45454545,\n",
       "       2383086.36363636, 2405429.27272727, 2427772.18181818,\n",
       "       2450115.09090909, 2472458.        , 2494800.90909091,\n",
       "       2517143.81818182, 2539486.72727273, 2561829.63636364,\n",
       "       2584172.54545455, 2606515.45454545, 2628858.36363636,\n",
       "       2651201.27272727, 2673544.18181818, 2695887.09090909,\n",
       "       2718230.        , 2740572.90909091, 2762915.81818182,\n",
       "       2785258.72727273, 2807601.63636364, 2829944.54545455,\n",
       "       2852287.45454545, 2874630.36363636, 2896973.27272727,\n",
       "       2919316.18181818, 2941659.09090909, 2964002.        ,\n",
       "       2986344.90909091, 3008687.81818182, 3031030.72727273,\n",
       "       3053373.63636364, 3075716.54545455, 3098059.45454545,\n",
       "       3120402.36363636, 3142745.27272727, 3165088.18181818,\n",
       "       3187431.09090909, 3209774.        , 3232116.90909091,\n",
       "       3254459.81818182, 3276802.72727273, 3299145.63636364,\n",
       "       3321488.54545455, 3343831.45454545, 3366174.36363636,\n",
       "       3388517.27272727, 3410860.18181818, 3433203.09090909,\n",
       "       3455546.        , 3477888.90909091, 3500231.81818182,\n",
       "       3522574.72727273, 3544917.63636364, 3567260.54545455,\n",
       "       3589603.45454545, 3611946.36363636, 3634289.27272727,\n",
       "       3656632.18181818, 3678975.09090909, 3701318.        ,\n",
       "       3723660.90909091, 3746003.81818182, 3768346.72727273,\n",
       "       3790689.63636364, 3813032.54545455, 3835375.45454545,\n",
       "       3857718.36363636, 3880061.27272727, 3902404.18181818,\n",
       "       3924747.09090909, 3947090.        , 3969432.90909091,\n",
       "       3991775.81818182, 4014118.72727273, 4036461.63636364,\n",
       "       4058804.54545455, 4081147.45454545, 4103490.36363636,\n",
       "       4125833.27272727, 4148176.18181818, 4170519.09090909,\n",
       "       4192862.        ])"
      ]
     },
     "execution_count": 78,
     "metadata": {},
     "output_type": "execute_result"
    }
   ],
   "source": [
    "a"
   ]
  },
  {
   "cell_type": "code",
   "execution_count": 87,
   "metadata": {},
   "outputs": [
    {
     "data": {
      "text/plain": [
       "<matplotlib.axes._subplots.AxesSubplot at 0x10d4b438>"
      ]
     },
     "execution_count": 87,
     "metadata": {},
     "output_type": "execute_result"
    },
    {
     "data": {
      "image/png": "[encoded data removed]",
      "text/plain": [
       "<matplotlib.figure.Figure at 0x10ac1d68>"
      ]
     },
     "metadata": {},
     "output_type": "display_data"
    }
   ],
   "source": [
    "import seaborn as sb\n",
    "import matplotlib.pyplot as plt\n",
    "x.boxplot(column='x',by='y')"
   ]
  },
  {
   "cell_type": "code",
   "execution_count": 92,
   "metadata": {},
   "outputs": [
    {
     "ename": "SyntaxError",
     "evalue": "non-keyword arg after keyword arg (<ipython-input-92-5b2293c97cbe>, line 1)",
     "output_type": "error",
     "traceback": [
      "\u001b[1;36m  File \u001b[1;32m\"<ipython-input-92-5b2293c97cbe>\"\u001b[1;36m, line \u001b[1;32m1\u001b[0m\n\u001b[1;33m    sb.boxplot(x='x',y='y',data=x,palette='hls',boxplot.title(\"do thi\"))\u001b[0m\n\u001b[1;31mSyntaxError\u001b[0m\u001b[1;31m:\u001b[0m non-keyword arg after keyword arg\n"
     ]
    }
   ],
   "source": [
    "sb.boxplot(x='x',y='y',data=x,palette='hls',boxplot.title(\"do thi\"))"
   ]
  },
  {
   "cell_type": "code",
   "execution_count": 121,
   "metadata": {},
   "outputs": [
    {
     "data": {
      "text/plain": [
       "(-1, 8)"
      ]
     },
     "execution_count": 121,
     "metadata": {},
     "output_type": "execute_result"
    },
    {
     "data": {
      "image/png": "[encoded data removed]",
      "text/plain": [
       "<matplotlib.figure.Figure at 0x11e41ef0>"
      ]
     },
     "metadata": {},
     "output_type": "display_data"
    }
   ],
   "source": [
    "import matplotlib.pyplot as plt\n",
    "import numpy as np\n",
    "\n",
    "# construct some data like what you have:\n",
    "x = np.random.randn(100, 8)\n",
    "mins = x.min(0)\n",
    "maxes = x.max(0)\n",
    "means = x.mean(0)\n",
    "std = x.std(0)\n",
    "\n",
    "# create stacked errorbars:\n",
    "plt.errorbar(np.arange(8), means, std, fmt='ok', lw=3)\n",
    "plt.errorbar(np.arange(8), means, [means - mins, maxes - means],\n",
    "             fmt='.k', ecolor='gray', lw=1)\n",
    "plt.xlim(-1, 8)"
   ]
  },
  {
   "cell_type": "code",
   "execution_count": 118,
   "metadata": {},
   "outputs": [
    {
     "data": {
      "text/plain": [
       "0.0"
      ]
     },
     "execution_count": 118,
     "metadata": {},
     "output_type": "execute_result"
    }
   ],
   "source": [
    "import statistics\n",
    "np.median(0)"
   ]
  },
  {
   "cell_type": "code",
   "execution_count": 125,
   "metadata": {},
   "outputs": [
    {
     "data": {
      "text/plain": [
       "0.029539849491562263"
      ]
     },
     "execution_count": 125,
     "metadata": {},
     "output_type": "execute_result"
    }
   ],
   "source": [
    "mean = np.mean(am)\n",
    "mean\n",
    "median=np.median(am)\n",
    "median"
   ]
  },
  {
   "cell_type": "code",
   "execution_count": 128,
   "metadata": {},
   "outputs": [],
   "source": [
    "mode = stats.mode(am)"
   ]
  },
  {
   "cell_type": "code",
   "execution_count": 129,
   "metadata": {
    "scrolled": true
   },
   "outputs": [
    {
     "name": "stdout",
     "output_type": "stream",
     "text": [
      "The modal value is [-2.69331432 -2.24513766 -3.38270717 -2.26712444 -1.98542959 -2.42011407\n",
      " -2.71999632 -1.98379875] with a count of [1 1 1 1 1 1 1 1]\n"
     ]
    }
   ],
   "source": [
    "print(\"The modal value is {} with a count of {}\".format(mode.mode[0], mode.count[0]))"
   ]
  },
  {
   "cell_type": "code",
   "execution_count": 130,
   "metadata": {},
   "outputs": [
    {
     "data": {
      "text/plain": [
       "6.428559694574622"
      ]
     },
     "execution_count": 130,
     "metadata": {},
     "output_type": "execute_result"
    }
   ],
   "source": [
    "np.ptp(am)"
   ]
  },
  {
   "cell_type": "code",
   "execution_count": 132,
   "metadata": {},
   "outputs": [
    {
     "data": {
      "text/plain": [
       "0.9679357631804619"
      ]
     },
     "execution_count": 132,
     "metadata": {},
     "output_type": "execute_result"
    }
   ],
   "source": [
    "np.var(x)"
   ]
  },
  {
   "cell_type": "code",
   "execution_count": null,
   "metadata": {},
   "outputs": [],
   "source": []
  }
 ],
 "metadata": {
  "kernelspec": {
   "display_name": "Python 2",
   "language": "python",
   "name": "python2"
  },
  "language_info": {
   "codemirror_mode": {
    "name": "ipython",
    "version": 2
   },
   "file_extension": ".py",
   "mimetype": "text/x-python",
   "name": "python",
   "nbconvert_exporter": "python",
   "pygments_lexer": "ipython2",
   "version": "2.7.14"
  }
 },
 "nbformat": 4,
 "nbformat_minor": 2
}
