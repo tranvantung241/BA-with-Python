{
 "cells": [
  {
   "cell_type": "code",
   "execution_count": 1,
   "metadata": {},
   "outputs": [],
   "source": [
    "import pandas as pd"
   ]
  },
  {
   "cell_type": "code",
   "execution_count": 2,
   "metadata": {},
   "outputs": [
    {
     "name": "stdout",
     "output_type": "stream",
     "text": [
      "C:\\Users\\QUYEN\\Desktop\\BA\\Lap02\n"
     ]
    }
   ],
   "source": [
    "cd C:\\Users\\QUYEN\\Desktop\\BA\\Lap02"
   ]
  },
  {
   "cell_type": "code",
   "execution_count": 3,
   "metadata": {
    "scrolled": true
   },
   "outputs": [
    {
     "data": {
      "text/html": [
       "<div>\n",
       "<style scoped>\n",
       "    .dataframe tbody tr th:only-of-type {\n",
       "        vertical-align: middle;\n",
       "    }\n",
       "\n",
       "    .dataframe tbody tr th {\n",
       "        vertical-align: top;\n",
       "    }\n",
       "\n",
       "    .dataframe thead th {\n",
       "        text-align: right;\n",
       "    }\n",
       "</style>\n",
       "<table border=\"1\" class=\"dataframe\">\n",
       "  <thead>\n",
       "    <tr style=\"text-align: right;\">\n",
       "      <th></th>\n",
       "      <th>Chi tieu(Don vi tinh)</th>\n",
       "      <th>Dan_So</th>\n",
       "      <th>Mat_do_dan_so</th>\n",
       "      <th>Ti le tang dan so (%)</th>\n",
       "      <th>Ti le dan thanh thi(%)</th>\n",
       "    </tr>\n",
       "  </thead>\n",
       "  <tbody>\n",
       "    <tr>\n",
       "      <th>0</th>\n",
       "      <td>2016</td>\n",
       "      <td>92.70</td>\n",
       "      <td>0.00</td>\n",
       "      <td>1.10</td>\n",
       "      <td>34.60</td>\n",
       "    </tr>\n",
       "    <tr>\n",
       "      <th>1</th>\n",
       "      <td>2015</td>\n",
       "      <td>91.70</td>\n",
       "      <td>270.64</td>\n",
       "      <td>1.07</td>\n",
       "      <td>34.30</td>\n",
       "    </tr>\n",
       "    <tr>\n",
       "      <th>2</th>\n",
       "      <td>2014</td>\n",
       "      <td>90.73</td>\n",
       "      <td>273.53</td>\n",
       "      <td>1.08</td>\n",
       "      <td>33.10</td>\n",
       "    </tr>\n",
       "    <tr>\n",
       "      <th>3</th>\n",
       "      <td>2013</td>\n",
       "      <td>89.71</td>\n",
       "      <td>270.46</td>\n",
       "      <td>1.05</td>\n",
       "      <td>32.36</td>\n",
       "    </tr>\n",
       "    <tr>\n",
       "      <th>4</th>\n",
       "      <td>2012</td>\n",
       "      <td>88.78</td>\n",
       "      <td>267.65</td>\n",
       "      <td>1.06</td>\n",
       "      <td>32.45</td>\n",
       "    </tr>\n",
       "  </tbody>\n",
       "</table>\n",
       "</div>"
      ],
      "text/plain": [
       "   Chi tieu(Don vi tinh)   Dan_So  Mat_do_dan_so  Ti le tang dan so (%)  \\\n",
       "0                    2016   92.70           0.00                   1.10   \n",
       "1                    2015   91.70         270.64                   1.07   \n",
       "2                    2014   90.73         273.53                   1.08   \n",
       "3                    2013   89.71         270.46                   1.05   \n",
       "4                    2012   88.78         267.65                   1.06   \n",
       "\n",
       "   Ti le dan thanh thi(%)  \n",
       "0                   34.60  \n",
       "1                   34.30  \n",
       "2                   33.10  \n",
       "3                   32.36  \n",
       "4                   32.45  "
      ]
     },
     "execution_count": 3,
     "metadata": {},
     "output_type": "execute_result"
    }
   ],
   "source": [
    "data = pd.read_csv('DSVN.csv')\n",
    "data.head()"
   ]
  },
  {
   "cell_type": "code",
   "execution_count": 4,
   "metadata": {},
   "outputs": [
    {
     "name": "stdout",
     "output_type": "stream",
     "text": [
      "<class 'pandas.core.frame.DataFrame'>\n",
      "RangeIndex: 7 entries, 0 to 6\n",
      "Data columns (total 5 columns):\n",
      "Chi tieu(Don vi tinh)     7 non-null int64\n",
      "Dan_So                    7 non-null float64\n",
      "Mat_do_dan_so             7 non-null float64\n",
      "Ti le tang dan so (%)     7 non-null float64\n",
      "Ti le dan thanh thi(%)    7 non-null float64\n",
      "dtypes: float64(4), int64(1)\n",
      "memory usage: 352.0 bytes\n"
     ]
    }
   ],
   "source": [
    "data.info()"
   ]
  },
  {
   "cell_type": "code",
   "execution_count": 6,
   "metadata": {},
   "outputs": [],
   "source": [
    "cyl=data['Dan_So']\n",
    "am=data['Mat_do_dan_so']"
   ]
  },
  {
   "cell_type": "code",
   "execution_count": 7,
   "metadata": {},
   "outputs": [
    {
     "data": {
      "text/plain": [
       "0      0.00\n",
       "1    270.64\n",
       "2    273.53\n",
       "3    270.46\n",
       "4    267.65\n",
       "5    264.82\n",
       "6    262.07\n",
       "Name: Mat_do_dan_so, dtype: float64"
      ]
     },
     "execution_count": 7,
     "metadata": {},
     "output_type": "execute_result"
    }
   ],
   "source": [
    "am"
   ]
  },
  {
   "cell_type": "code",
   "execution_count": 8,
   "metadata": {},
   "outputs": [
    {
     "name": "stdout",
     "output_type": "stream",
     "text": [
      "The results of the independent t-test are: \n",
      "\tstatistic = -3.654\n",
      "\tp-value = 0.003\n",
      "\n",
      "The difference between groups is -140.1 [nan to nan] (mean [95% CI])\n"
     ]
    }
   ],
   "source": [
    "import pandas\n",
    "from scipy import stats\n",
    "from math import sqrt\n",
    "from scipy.stats import t\n",
    "# Run independent t-test\n",
    "ind_t_test = stats.ttest_ind(data['Dan_So'],data['Mat_do_dan_so'])\n",
    "# Calculate the mean difference and 95% confidence interval\n",
    "N1 = data['Dan_So'].count()\n",
    "N2 = data['Mat_do_dan_so'].count()\n",
    "df = (N1 + N2 - 2)\n",
    "std1 = data['Dan_So'].std()\n",
    "std2 = data['Mat_do_dan_so'].std()\n",
    "std_N1N2 = sqrt( ((N1 - 1)*(std1)**2 + (N2 - 1)*(std2)**2) / df) \n",
    "diff_mean = data['Dan_So'].mean() - data['Mat_do_dan_so'].mean()\n",
    "MoE = t.ppf(25, df) * std_N1N2 * sqrt(1/N1 + 1/N2)\n",
    "print('The results of the independent t-test are: \\n\\tstatistic = {:4.3f}\\n\\tp-value = {:4.3f}'.format(ind_t_test[0],ind_t_test[1]))\n",
    "print ('\\nThe difference between groups is {:3.1f} [{:3.1f} to {:3.1f}] (mean [95% CI])'.format(diff_mean, diff_mean - MoE, diff_mean + MoE))"
   ]
  },
  {
   "cell_type": "code",
   "execution_count": 10,
   "metadata": {},
   "outputs": [
    {
     "name": "stdout",
     "output_type": "stream",
     "text": [
      "bac tu do 6.000000\n",
      "Ttest_1sampResult(statistic=4.430786499018813, pvalue=0.004419365030457648)\n"
     ]
    }
   ],
   "source": [
    "from scipy import stats\n",
    "one_sample_data = data['Mat_do_dan_so']\n",
    "df=one_sample_data.count()-1\n",
    "one_sample = stats.ttest_1samp(one_sample_data,60)\n",
    "print 'bac tu do %f' % df\n",
    "print one_sample"
   ]
  },
  {
   "cell_type": "code",
   "execution_count": null,
   "metadata": {},
   "outputs": [],
   "source": [
    "one_sample"
   ]
  },
  {
   "cell_type": "code",
   "execution_count": null,
   "metadata": {},
   "outputs": [],
   "source": []
  }
 ],
 "metadata": {
  "kernelspec": {
   "display_name": "Python 2",
   "language": "python",
   "name": "python2"
  },
  "language_info": {
   "codemirror_mode": {
    "name": "ipython",
    "version": 2
   },
   "file_extension": ".py",
   "mimetype": "text/x-python",
   "name": "python",
   "nbconvert_exporter": "python",
   "pygments_lexer": "ipython2",
   "version": "2.7.14"
  }
 },
 "nbformat": 4,
 "nbformat_minor": 2
}
